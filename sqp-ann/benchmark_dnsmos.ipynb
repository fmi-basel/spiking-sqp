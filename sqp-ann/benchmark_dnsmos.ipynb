{
 "cells": [
  {
   "cell_type": "code",
   "execution_count": null,
   "metadata": {},
   "outputs": [],
   "source": [
    "from dotenv import load_dotenv, find_dotenv\n",
    "load_dotenv(find_dotenv(usecwd=True), override=False)\n",
    "\n",
    "import torch\n",
    "import hydra.utils\n",
    "\n",
    "from hydra import initialize, compose\n",
    "from hydra.core.global_hydra import GlobalHydra\n",
    "\n",
    "from neurobench.models import TorchModel\n",
    "from neurobench.benchmarks import Benchmark\n",
    "from neurobench.metrics.static import ParameterCount, Footprint, ConnectionSparsity\n",
    "from neurobench.metrics.workload import ActivationSparsity, SynapticOperations\n",
    "\n",
    "from omegaconf import OmegaConf\n",
    "\n",
    "from torch.utils.data import DataLoader, Subset\n",
    "\n",
    "from sqp_ann.utils import register_resolvers, pretty_configs, DnsmosPreProcessor"
   ]
  },
  {
   "cell_type": "code",
   "execution_count": null,
   "metadata": {},
   "outputs": [],
   "source": [
    "# Use model version with externalized preprocessing for neurobench compatiblity\n",
    "model_type = 'dnsmos_no_preproc'\n",
    "\n",
    "# Add your model path here\n",
    "checkpoint_path = \"/path/to/pytorch_model.bin\"\n",
    "\n",
    "GlobalHydra.instance().clear()\n",
    "initialize(version_base=None, config_path=\"config/\")\n",
    "\n",
    "register_resolvers()\n",
    "\n",
    "config = compose(config_name = 'train.yaml',\n",
    "                 overrides = [f'model={model_type}'])\n",
    "\n",
    "print(\"Model configs:\")\n",
    "print(OmegaConf.to_yaml(config.model))\n",
    "\n",
    "model = hydra.utils.instantiate(config.model)\n",
    "dataset_test = hydra.utils.instantiate(config.dataset_test)\n",
    "\n",
    "if checkpoint_path:\n",
    "    state_dict = torch.load(checkpoint_path)\n",
    "    state_dict = {k: v for k, v in state_dict.items() if not k.startswith('preproc.')}\n",
    "    model.load_state_dict(state_dict)\n",
    "\n",
    "device = torch.device('cuda' if torch.cuda.is_available() else 'cpu')\n",
    "model = model.to(device)"
   ]
  },
  {
   "cell_type": "code",
   "execution_count": null,
   "metadata": {},
   "outputs": [],
   "source": [
    "nb_model = TorchModel(model)\n",
    "preprocessors = [DnsmosPreProcessor(device=device)]\n",
    "\n",
    "static_metrics = [ParameterCount, Footprint, ConnectionSparsity]\n",
    "workload_metrics = [ActivationSparsity, SynapticOperations]\n",
    "\n",
    "data_loader = DataLoader(dataset_test,\n",
    "                         batch_size = 1,\n",
    "                         shuffle = False)\n",
    "\n",
    "benchmark = Benchmark(nb_model,\n",
    "                      data_loader,\n",
    "                      preprocessors,\n",
    "                      [],\n",
    "                      [static_metrics, workload_metrics])\n",
    "\n",
    "results = benchmark.run()\n",
    "results"
   ]
  },
  {
   "cell_type": "code",
   "execution_count": null,
   "metadata": {},
   "outputs": [],
   "source": [
    "params = results['ParameterCount']\n",
    "footprint = results['Footprint']\n",
    "act_sparsity = results['ActivationSparsity']\n",
    "e_macs = results['SynapticOperations']['Effective_MACs']\n",
    "\n",
    "e_flops = e_macs * 2\n",
    "\n",
    "print(f\"\\nParams: {params:.2e}\")\n",
    "print(f\"Activation sparsity: {act_sparsity:.3f}\")\n",
    "print(f\"Effective FLOPs: {e_flops:.3e}\")"
   ]
  }
 ],
 "metadata": {
  "kernelspec": {
   "display_name": "sqp-ann-fresh",
   "language": "python",
   "name": "sqp-ann-fresh"
  },
  "language_info": {
   "codemirror_mode": {
    "name": "ipython",
    "version": 3
   },
   "file_extension": ".py",
   "mimetype": "text/x-python",
   "name": "python",
   "nbconvert_exporter": "python",
   "pygments_lexer": "ipython3",
   "version": "3.10.12"
  }
 },
 "nbformat": 4,
 "nbformat_minor": 2
}
