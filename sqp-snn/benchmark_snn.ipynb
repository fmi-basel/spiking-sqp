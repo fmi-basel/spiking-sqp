{
 "cells": [
  {
   "cell_type": "code",
   "execution_count": null,
   "metadata": {},
   "outputs": [],
   "source": [
    "import pandas as pd\n",
    "import random\n",
    "import torch\n",
    "\n",
    "from torch.utils.data import DataLoader, Subset\n",
    "\n",
    "from sqp_snn import project_config\n",
    "from sqp_snn.data.datasets import SQPDataset\n",
    "from sqp_snn.models.utils import load_wandb_model, count_state_flops\n",
    "from sqp_snn.neurobench_ext import StorkModel, StorkBenchmark"
   ]
  },
  {
   "cell_type": "code",
   "execution_count": null,
   "metadata": {},
   "outputs": [],
   "source": [
    "wandb_project = 'your-project'\n",
    "wandb_run = 'your-run'\n",
    "\n",
    "model, config = load_wandb_model(wandb_project, wandb_run, device='cuda:1')\n",
    "nb_model = StorkModel(model)\n",
    "\n",
    "state_flops = count_state_flops(model)"
   ]
  },
  {
   "cell_type": "code",
   "execution_count": null,
   "metadata": {},
   "outputs": [],
   "source": [
    "df_test = pd.read_pickle(project_config.METRICS_FILE_TEST)\n",
    "dataset_test = SQPDataset(\n",
    "    df = df_test,\n",
    "    #cache_fname = \"%s/dns2020_sqp_test_cache.pkl.gz\"%(project_config.CACHE_DIR)\n",
    ")"
   ]
  },
  {
   "cell_type": "code",
   "execution_count": null,
   "metadata": {},
   "outputs": [],
   "source": [
    "dataloader = DataLoader(\n",
    "    dataset = dataset_test,\n",
    "    batch_size = config.batch_size,\n",
    "    shuffle = False\n",
    ")\n",
    "\n",
    "static_metrics = [\"parameter_count\", \"footprint\", \"connection_sparsity\"]\n",
    "workload_metrics = [\"activation_sparsity\", \"synaptic_operations\", \"membrane_updates\"]\n",
    "\n",
    "benchmark = StorkBenchmark(nb_model, dataloader, [], [], [static_metrics, workload_metrics])\n",
    "results = benchmark.run()"
   ]
  },
  {
   "cell_type": "code",
   "execution_count": null,
   "metadata": {},
   "outputs": [],
   "source": [
    "params = results['parameter_count']\n",
    "act_sparsity = results['activation_sparsity']\n",
    "e_acs = results['synaptic_operations']['Effective_ACs']\n",
    "\n",
    "print(f\"\\nParams: {params:.2e}\")\n",
    "print(f\"Act. sparsity: {act_sparsity:.2f}\")\n",
    "\n",
    "print(f\"\\nState FLOPs: {state_flops:.3e}\")\n",
    "print(f\"eACs: {e_acs:.3e}\")\n",
    "\n",
    "print(f\"\\neFLOPs: {state_flops + e_acs:.3e}\")"
   ]
  }
 ],
 "metadata": {
  "kernelspec": {
   "display_name": "sqp-snn-fresh",
   "language": "python",
   "name": "sqp-snn-fresh"
  },
  "language_info": {
   "codemirror_mode": {
    "name": "ipython",
    "version": 3
   },
   "file_extension": ".py",
   "mimetype": "text/x-python",
   "name": "python",
   "nbconvert_exporter": "python",
   "pygments_lexer": "ipython3",
   "version": "3.10.12"
  }
 },
 "nbformat": 4,
 "nbformat_minor": 2
}
